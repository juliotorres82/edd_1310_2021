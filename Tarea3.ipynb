{
  "nbformat": 4,
  "nbformat_minor": 0,
  "metadata": {
    "colab": {
      "name": "Tarea3.ipynb",
      "provenance": [],
      "authorship_tag": "ABX9TyPg+dtY2fQB7fWzetL31fOK",
      "include_colab_link": true
    },
    "kernelspec": {
      "name": "python3",
      "display_name": "Python 3"
    }
  },
  "cells": [
    {
      "cell_type": "markdown",
      "metadata": {
        "id": "view-in-github",
        "colab_type": "text"
      },
      "source": [
        "<a href=\"https://colab.research.google.com/github/juliotorres82/edd_1310_2021/blob/master/Tarea3.ipynb\" target=\"_parent\"><img src=\"https://colab.research.google.com/assets/colab-badge.svg\" alt=\"Open In Colab\"/></a>"
      ]
    },
    {
      "cell_type": "code",
      "metadata": {
        "id": "My973jr7ocJj",
        "outputId": "5fd8a128-0ec1-4ad7-a6fb-474d2932eb13",
        "colab": {
          "base_uri": "https://localhost:8080/",
          "height": 51
        }
      },
      "source": [
        ""
      ],
      "execution_count": 1,
      "outputs": [
        {
          "output_type": "stream",
          "text": [
            "creando el objeto\n",
            "Marca: Toshiba Procesador: Intel i7\n"
          ],
          "name": "stdout"
        }
      ]
    },
    {
      "cell_type": "code",
      "metadata": {
        "id": "mPJCKk2bqgvg",
        "outputId": "9c7b783a-d5b1-4c80-ef7c-218b0795a880",
        "colab": {
          "base_uri": "https://localhost:8080/",
          "height": 68
        }
      },
      "source": [
        "class Persona:\n",
        "  def __init__(self, n , e, es):\n",
        "    self.__nombre= n\n",
        "    self.__edad= e\n",
        "    self.__estatura= es\n",
        "    print(\"creando el objeto\")\n",
        "  \n",
        "  def dormir (self):\n",
        "    print(f\"(self.__nombre) va a dormir\")\n",
        "\n",
        "  def comer (self):\n",
        "    print(f\"(self.__nombre) va a comer\")\n",
        "    \n",
        "    \n",
        "    \n",
        "  \n",
        "persona1 = Persona(\"Juan\", \"13\", \"1.50cm\")\n",
        "persona1.dormir()\n",
        "persona1.comer()\n",
        "\n",
        "\n"
      ],
      "execution_count": 9,
      "outputs": [
        {
          "output_type": "stream",
          "text": [
            "creando el objeto\n",
            "(self.__nombre) va a dormir\n",
            "(self.__nombre) va a comer\n"
          ],
          "name": "stdout"
        }
      ]
    },
    {
      "cell_type": "code",
      "metadata": {
        "id": "de4zx-nExIJl"
      },
      "source": [
        "class Celuar:\n",
        "  def __init__(self, m , mol, esp):\n",
        "    self.__marca= m\n",
        "    self.__modelo= mol\n",
        "    self.__espacio_de_memoria= esp\n",
        "    print(\"creando el objeto\")\n",
        "  \n",
        "  def llamar (self):\n",
        "    print(f\"(self.__modelo) va a llamar a un contacto\")\n",
        "     \n",
        "\n",
        "\n",
        "  def alarma (self):\n",
        "    print(f\"(self.__modelo)  a puesto la alarma\")\n",
        "    \n",
        "\n",
        "    \n",
        "    \n",
        "  \n",
        "celular1 = Celular(\"Samsung\", \"Galaxy s10\", \"32GB\")\n",
        "celular1.llamar()\n",
        "celular1.alarma()"
      ],
      "execution_count": 16,
      "outputs": []
    }
  ]
}