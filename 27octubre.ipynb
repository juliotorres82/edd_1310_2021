{
  "nbformat": 4,
  "nbformat_minor": 0,
  "metadata": {
    "colab": {
      "name": "27octubre.ipynb",
      "provenance": [],
      "authorship_tag": "ABX9TyOra9/ARMxXUK6jmJboVxDn",
      "include_colab_link": true
    },
    "kernelspec": {
      "name": "python3",
      "display_name": "Python 3"
    }
  },
  "cells": [
    {
      "cell_type": "markdown",
      "metadata": {
        "id": "view-in-github",
        "colab_type": "text"
      },
      "source": [
        "<a href=\"https://colab.research.google.com/github/juliotorres82/edd_1310_2021/blob/master/27octubre.ipynb\" target=\"_parent\"><img src=\"https://colab.research.google.com/assets/colab-badge.svg\" alt=\"Open In Colab\"/></a>"
      ]
    },
    {
      "cell_type": "code",
      "metadata": {
        "id": "n0s9byc_AmQ0",
        "outputId": "5d4c00c1-aaca-4182-b830-61fb62953097",
        "colab": {
          "base_uri": "https://localhost:8080/",
          "height": 51
        }
      },
      "source": [
        "#Python no se penso para POO, asi que lo simula con self\n",
        "\n",
        "class Computadora:\n",
        "    def __init__( self , m , p):\n",
        "        self.__marca = m #dos __ al inicio del nombre es privado\n",
        "        self.__procesador = p\n",
        "\n",
        "    def to_string( self ):\n",
        "        return \"MArca:\"+self.__marca+\" Procesador:\"+self.__procesador\n",
        "    \n",
        "    # encapsulamiento set and get\n",
        "    def set_marca(self, m): \n",
        "      self.__marca = m\n",
        "    def get_marca (self):\n",
        "      return self.__marca\n",
        "\n",
        "    def set_procesador(self , p):\n",
        "      self.__procesador = p\n",
        "    def get_procesador(self):\n",
        "      return self.__procesador      \n",
        "\n",
        "\n",
        "\n",
        "mi_pc = Computadora(\"Toshiba\",\"Intel i7\")\n",
        "mi_pc.__marca=\"HP \" #intentando cambiar el valor privado\n",
        "print(mi_pc.to_string()) \n",
        "print(mi_pc.get_procesador())"
      ],
      "execution_count": 2,
      "outputs": [
        {
          "output_type": "stream",
          "text": [
            "MArca:Toshiba Procesador:Intel i7\n",
            "Intel i7\n"
          ],
          "name": "stdout"
        }
      ]
    },
    {
      "cell_type": "markdown",
      "metadata": {
        "id": "CEhUljUWEHpo"
      },
      "source": [
        "# encapsulamiento python 3\n",
        "## tradicional tipo java\n",
        "     setAtributo( val )\n",
        "     tipo getAtributo ()\n",
        "## estilo python 3\n",
        "UTILIZANDO DECORADORES\n",
        "- @property\n",
        "-@atributo.setter"
      ]
    },
    {
      "cell_type": "code",
      "metadata": {
        "id": "YBDH6ML7H2-Z",
        "outputId": "d8fb236b-5070-48c1-d0f4-6a4d64659bcb",
        "colab": {
          "base_uri": "https://localhost:8080/",
          "height": 136
        }
      },
      "source": [
        "class Computadora:\n",
        "  def __init__(self, m , p ):\n",
        "    self.marca = m #NO se declara, se manda a llamar el decorador @property\n",
        "    self.procesador = p #idem\n",
        "  @property # declara como atributo privado y funciona como metodo get\n",
        "  def marca (self):\n",
        "    return self.__marca\n",
        "  @marca.setter\n",
        "  def marca(self, m):\n",
        "   print(\"En el metodo set de procesador\") \n",
        "   self.__marca = m\n",
        "\n",
        "  \n",
        "  @property\n",
        "  def procesador(self):\n",
        "    return self.__procesador\n",
        "\n",
        "\n",
        "  @procesador.setter\n",
        "  def procesador (self, p):\n",
        "    print(\"En el metodo set de procesador\")\n",
        "    self.__procesador = p    \n",
        "  \n",
        "  def to_string(self):\n",
        "    return \"marca: \" + self.marca + \" \\nProcesador: \"+ self.procesador\n",
        "\n",
        "\n",
        "\n",
        "mi_pc2 = Computadora(\"Mac Book pro\", \"Intel i7\")    \n",
        "print(mi_pc2.to_string())\n",
        "mi_pc2.marca = \"Dell\"\n",
        "print(mi_pc2.to_string())"
      ],
      "execution_count": 10,
      "outputs": [
        {
          "output_type": "stream",
          "text": [
            "En ek netodo set de procesador\n",
            "En el metodo set de procesador\n",
            "marca: Mac Book pro \n",
            "Procesador: Intel i7\n",
            "En ek netodo set de procesador\n",
            "marca: Dell \n",
            "Procesador: Intel i7\n"
          ],
          "name": "stdout"
        }
      ]
    },
    {
      "cell_type": "code",
      "metadata": {
        "id": "mtcUMLjXQiup",
        "outputId": "c5e0dbe1-2147-4f18-fd1d-81554b065614",
        "colab": {
          "base_uri": "https://localhost:8080/",
          "height": 102
        }
      },
      "source": [
        "# herencia , pasando la clase base a la declaracion\n",
        "class ServidorEmpresarial(Computadora):\n",
        "  def __init__(self):\n",
        "    print(\"Hola servidor\")\n",
        "server = ServidorEmpresarial()\n",
        "server.marca = \"Sun Micro Sistems\"\n",
        "server.procesador = \"intel i7\"\n",
        "print(server.to_string())"
      ],
      "execution_count": 12,
      "outputs": [
        {
          "output_type": "stream",
          "text": [
            "Hola servidor\n",
            "En ek netodo set de procesador\n",
            "En el metodo set de procesador\n",
            "marca: Sun Micro Sistems \n",
            "Procesador: intel i7\n"
          ],
          "name": "stdout"
        }
      ]
    }
  ]
}