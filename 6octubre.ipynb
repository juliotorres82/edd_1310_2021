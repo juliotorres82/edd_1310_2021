{
  "nbformat": 4,
  "nbformat_minor": 0,
  "metadata": {
    "colab": {
      "name": "Untitled1.ipynb",
      "provenance": [],
      "authorship_tag": "ABX9TyOV9GES2JslrDKBC07BVWP1",
      "include_colab_link": true
    },
    "kernelspec": {
      "name": "python3",
      "display_name": "Python 3"
    }
  },
  "cells": [
    {
      "cell_type": "markdown",
      "metadata": {
        "id": "view-in-github",
        "colab_type": "text"
      },
      "source": [
        "<a href=\"https://colab.research.google.com/github/juliotorres82/edd_1310_2021/blob/master/6octubre.ipynb\" target=\"_parent\"><img src=\"https://colab.research.google.com/assets/colab-badge.svg\" alt=\"Open In Colab\"/></a>"
      ]
    },
    {
      "cell_type": "code",
      "metadata": {
        "id": "43Z8A-Hyqo85",
        "outputId": "1dea0b28-3cd0-4289-9f14-776c0da7bcd8",
        "colab": {
          "base_uri": "https://localhost:8080/",
          "height": 129
        }
      },
      "source": [
        "# String continuacion\n",
        "\n",
        "numeros_txt = \"       1, 2, 3, 4  , 5  , 35 , 15 , 12\"\n",
        "print(numeros_txt)\n",
        "numeros_txt = numeros_txt.lstrip().split(\",\") \n",
        "print(numeros_txt)\n",
        "for j in range(len(numeros_txt)):\n",
        "  numeros_txt[ j ] = int(numeros_txt[j].strip())\n",
        "\n",
        "\n",
        "print(numeros_txt)\n",
        "\n",
        "#Funcion range()\n",
        "\n",
        "# range(inicio, stop, incremento )\n",
        "  print(range(1,10,3))\n",
        "  rango = range(1,10,2)\n",
        "\n",
        "  for x in rango:\n",
        "    print(x)\n",
        "    rango = range(10)\n",
        "    for x in rango: \n",
        "      print(x)\n",
        "\n"
      ],
      "execution_count": 16,
      "outputs": [
        {
          "output_type": "error",
          "ename": "IndentationError",
          "evalue": "ignored",
          "traceback": [
            "\u001b[0;36m  File \u001b[0;32m\"<ipython-input-16-ebf86c88c5fe>\"\u001b[0;36m, line \u001b[0;32m16\u001b[0m\n\u001b[0;31m    print(range(1,10,3))\u001b[0m\n\u001b[0m    ^\u001b[0m\n\u001b[0;31mIndentationError\u001b[0m\u001b[0;31m:\u001b[0m unexpected indent\n"
          ]
        }
      ]
    },
    {
      "cell_type": "markdown",
      "metadata": {
        "id": "OQreb517xMwj"
      },
      "source": [
        "#Listas\n",
        "- mutables\n",
        "- declaran con []\n",
        "- selector [ int ]\n",
        "- pueden \n",
        "\n",
        "#tuplas\n",
        "- NO mutables\n",
        "- declaran con ( )\n",
        "- selectos [ int ]\n",
        "# diccionarios\n",
        "- son mutables\n",
        "- son conjunto de pares llave:valor\n",
        "- Equivalentes a los objetos JSON de JavaScritp\n",
        "\n",
        "#conjuntos\n",
        "- representación de la teoria de conjuntos\n"
      ]
    },
    {
      "cell_type": "code",
      "metadata": {
        "id": "sLO1PIcYyN7D",
        "outputId": "8accfbf4-6e78-4934-f047-b7ce5d221146",
        "colab": {
          "base_uri": "https://localhost:8080/",
          "height": 153
        }
      },
      "source": [
        "# Listas\n",
        "frutas = [ \"Pera\" , \"Manzana\" , \"fresa\", \"Kiwi\", \"Naranja\"]\n",
        "print(frutas)\n",
        "cosas = [\"Cuaderno\", 2, 3.1416 , True , False , [ \"Rojo\", \"Azul\"]]\n",
        "print(cosas) \n",
        "frutas[2]=\"Fresa\" # frutas[2] = frutas[2].capitalize()\n",
        "print(frutas)\n",
        "# agregar a lista\n",
        "frutas.append(\"Aguacate\")\n",
        "print(frutas)\n",
        "frutas.insert(2,\"Sandia\")\n",
        "print(frutas)\n",
        "\n",
        "# concatenar \n",
        "fecha = [\"06\", \"10\", \"2020\"]\n",
        "print(fecha)\n",
        "fecha_str = \"/\".join(fecha)\n",
        "print(fecha_str)\n",
        "\n",
        "\n",
        "\n"
      ],
      "execution_count": 26,
      "outputs": [
        {
          "output_type": "stream",
          "text": [
            "['Pera', 'Manzana', 'fresa', 'Kiwi', 'Naranja']\n",
            "['Cuaderno', 2, 3.1416, True, False, ['Rojo', 'Azul']]\n",
            "['Pera', 'Manzana', 'Fresa', 'Kiwi', 'Naranja']\n",
            "['Pera', 'Manzana', 'Fresa', 'Kiwi', 'Naranja', 'Aguacate']\n",
            "['Pera', 'Manzana', 'Sandia', 'Fresa', 'Kiwi', 'Naranja', 'Aguacate']\n",
            "['06', '10', '2020']\n",
            "06/10/2020\n",
            "['Cuaderno', 2, 3.1416, True, False, ['Rojo', 'Azul']]\n"
          ],
          "name": "stdout"
        }
      ]
    },
    {
      "cell_type": "code",
      "metadata": {
        "id": "JRI00VOb3Zaa",
        "outputId": "be3100dc-9804-4005-e312-5fa53acbd356",
        "colab": {
          "base_uri": "https://localhost:8080/",
          "height": 187
        }
      },
      "source": [
        "# eliminar elementos\n",
        "cosas = [\"Cuaderno\", 2, 3.1416 , True , False , [ \"Rojo\", \"Azul\"]]\n",
        "print(cosas)\n",
        "cosas.append(\"Libro\")\n",
        "cosas.append(\"Lapiz\")\n",
        "print(cosas)\n",
        "algo = cosas.pop()\n",
        "print(cosas)\n",
        "print(algo)\n",
        "\n",
        "algo = cosas.pop(2)\n",
        "print(cosas)\n",
        "print(algo)\n",
        "cosas.remove(2)\n",
        "print(cosas)\n",
        "\n",
        "#vaciar listas\n",
        "#cosas.clear()\n",
        "print(cosas)\n",
        "\n",
        "print(frutas)\n",
        "frutas.sort()\n",
        "print(frutas)\n"
      ],
      "execution_count": 36,
      "outputs": [
        {
          "output_type": "stream",
          "text": [
            "['Cuaderno', 2, 3.1416, True, False, ['Rojo', 'Azul']]\n",
            "['Cuaderno', 2, 3.1416, True, False, ['Rojo', 'Azul'], 'Libro', 'Lapiz']\n",
            "['Cuaderno', 2, 3.1416, True, False, ['Rojo', 'Azul'], 'Libro']\n",
            "Lapiz\n",
            "['Cuaderno', 2, True, False, ['Rojo', 'Azul'], 'Libro']\n",
            "3.1416\n",
            "['Cuaderno', True, False, ['Rojo', 'Azul'], 'Libro']\n",
            "['Cuaderno', True, False, ['Rojo', 'Azul'], 'Libro']\n",
            "['Aguacate', 'Fresa', 'Kiwi', 'Manzana', 'Naranja', 'Pera', 'Sandia']\n",
            "['Aguacate', 'Fresa', 'Kiwi', 'Manzana', 'Naranja', 'Pera', 'Sandia']\n"
          ],
          "name": "stdout"
        }
      ]
    },
    {
      "cell_type": "code",
      "metadata": {
        "id": "qxFoYhUc7EUO",
        "outputId": "b745f8e4-d9ef-4240-d0cb-96ff4cc7890a",
        "colab": {
          "base_uri": "https://localhost:8080/",
          "height": 136
        }
      },
      "source": [
        "#Slicing\n",
        "cosas = [\"Cuaderno\", 2, 3.1416 , True , False , [ \"Rojo\", \"Azul\"]]\n",
        "print(cosas[3:5:1])\n",
        "print(cosas)\n",
        "print(cosas[0][3:5:1])\n",
        "\n",
        "numeros = [1,2,3,4,5,6,7,8,9,10,11,12,13,14,15]\n",
        "print(numeros[7:12:1])\n",
        "# sustituir rebanadas -2,-2 -> [1,2,3,4,5,6,7,8,9,10,11,12,13,14,15]\n",
        "numeros[8:13:] =[-2,-2]\n",
        "print(numeros)\n",
        "\n",
        "#preguntar por existencia\n",
        "print(-2 in numeros)\n",
        "print(100 in numeros)\n",
        "\n",
        "\n"
      ],
      "execution_count": 42,
      "outputs": [
        {
          "output_type": "stream",
          "text": [
            "[True, False]\n",
            "['Cuaderno', 2, 3.1416, True, False, ['Rojo', 'Azul']]\n",
            "de\n",
            "[8, 9, 10, 11, 12]\n",
            "[1, 2, 3, 4, 5, 6, 7, 8, -2, -2, 14, 15]\n",
            "True\n",
            "False\n"
          ],
          "name": "stdout"
        }
      ]
    },
    {
      "cell_type": "markdown",
      "metadata": {
        "id": "69fPiSI8-kXm"
      },
      "source": [
        "# Listas multi dimensión\n",
        "listas dentro de listas"
      ]
    },
    {
      "cell_type": "code",
      "metadata": {
        "id": "Rrx_cWkt-tRC",
        "outputId": "99ce9f52-efd2-4bcb-b7e1-3ece396c126f",
        "colab": {
          "base_uri": "https://localhost:8080/",
          "height": 207
        }
      },
      "source": [
        "computadoras =[\"HP\", \"Mac Book Pro 17\", \"Mate Book\", \"Lenovo legion\"]\n",
        "oss = [\"Windows 10\", \"Linux\", \"Android\", \"iOS\"]\n",
        "\n",
        "computo = [computadoras , oss]\n",
        "print(computo[0])\n",
        "print(computo[1])\n",
        "print(computo[0][2])\n",
        "print(computo[0][2][0:5])\n",
        "print(computo[0][3][5: :-1])\n",
        "print(computo[0][3][-8: :-1])\n",
        "print(\"Linux\" in computo[1])\n",
        "dbms = [[\"Mysql\", \"Open Sourse\", False], [\"MS SOL Server\", \"de paga\", True] ]\n",
        "computo.append(dbms)\n",
        "print(computo)\n",
        "print(computo[2][0][0])\n",
        "print(computo[2][1][1])     \n",
        "      \n",
        "      \n",
        "      \n",
        "      \n",
        "      \n",
        "      \n",
        "      \n"
      ],
      "execution_count": 56,
      "outputs": [
        {
          "output_type": "stream",
          "text": [
            "['HP', 'Mac Book Pro 17', 'Mate Book', 'Lenovo legion']\n",
            "['Windows 10', 'Linux', 'Android', 'iOS']\n",
            "Mate Book\n",
            "Mate \n",
            "ovoneL\n",
            "ovoneL\n",
            "True\n",
            "[['HP', 'Mac Book Pro 17', 'Mate Book', 'Lenovo legion'], ['Windows 10', 'Linux', 'Android', 'iOS'], [['Mysql', 'Open Sourse', False], ['MS SOL Server', 'de paga', True]]]\n",
            "Mysql\n",
            "de paga\n"
          ],
          "name": "stdout"
        }
      ]
    }
  ]
}