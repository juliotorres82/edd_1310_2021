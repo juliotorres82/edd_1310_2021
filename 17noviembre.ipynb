{
  "nbformat": 4,
  "nbformat_minor": 0,
  "metadata": {
    "colab": {
      "name": "17noviembre.ipynb",
      "provenance": [],
      "authorship_tag": "ABX9TyN7ImcbQnfvP7qwP7oKcI9t",
      "include_colab_link": true
    },
    "kernelspec": {
      "name": "python3",
      "display_name": "Python 3"
    }
  },
  "cells": [
    {
      "cell_type": "markdown",
      "metadata": {
        "id": "view-in-github",
        "colab_type": "text"
      },
      "source": [
        "<a href=\"https://colab.research.google.com/github/juliotorres82/edd_1310_2021/blob/master/17noviembre.ipynb\" target=\"_parent\"><img src=\"https://colab.research.google.com/assets/colab-badge.svg\" alt=\"Open In Colab\"/></a>"
      ]
    },
    {
      "cell_type": "code",
      "metadata": {
        "colab": {
          "base_uri": "https://localhost:8080/"
        },
        "id": "qLCT7Ph8UJ8C",
        "outputId": "b453e491-0569-4c5c-8987-eac55df52df3"
      },
      "source": [
        "class Nodo:\n",
        "    def __init__(self, value, siguiente= None):\n",
        "        self.data = value     #falta encapsulamiento\n",
        "        self.siguiente = siguiente\n",
        "\n",
        "class Linkedlist:\n",
        "    def __init__ (self):\n",
        "        self.__head = None\n",
        "\n",
        "    def is_empty(self):\n",
        "        return self.__head == None\n",
        "\n",
        "    def append (self, value):\n",
        "        nuevo = Nodo (value)\n",
        "        if self.__head == None: # self.is_empty()\n",
        "            self.__head = nuevo\n",
        "        else:\n",
        "            curr_node = self.__head\n",
        "            while curr_node.siguiente != None:\n",
        "                curr_node = curr_node.siguiente\n",
        "            curr_node.siguiente = nuevo\n",
        "    def transversal(self):\n",
        "        curr_node = self.__head\n",
        "        while curr_node != None:\n",
        "            print(f\"{curr_node.data} ->\")\n",
        "            curr_node = curr_node.siguiente\n",
        "        print(\"\")\n",
        "    def remove(self, value):\n",
        "        curr_node = self.__head\n",
        "        while curr_node.data != value and curr_node.siguiente != None: \n",
        "\n",
        "l = Linkedlist()\n",
        "print(f\"L esta vacia ? {l.is_empty()}\")\n",
        "l.append(10)\n",
        "l.append(5)\n",
        "l.append(6)\n",
        "l.append(20)\n",
        "print(f\"L esta vacia ? {l.is_empty()}\")\n",
        "l.transversal()"
      ],
      "execution_count": 9,
      "outputs": [
        {
          "output_type": "stream",
          "text": [
            "L esta vacia ? True\n",
            "L esta vacia ? False\n",
            "10 ->\n",
            "5 ->\n",
            "6 ->\n",
            "20 ->\n",
            "\n"
          ],
          "name": "stdout"
        }
      ]
    }
  ]
}