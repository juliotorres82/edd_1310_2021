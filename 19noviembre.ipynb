{
  "nbformat": 4,
  "nbformat_minor": 0,
  "metadata": {
    "colab": {
      "name": "19noviembre.ipynb",
      "provenance": [],
      "authorship_tag": "ABX9TyMgvyRytj1eNgaiWQI8cOTX",
      "include_colab_link": true
    },
    "kernelspec": {
      "name": "python3",
      "display_name": "Python 3"
    }
  },
  "cells": [
    {
      "cell_type": "markdown",
      "metadata": {
        "id": "view-in-github",
        "colab_type": "text"
      },
      "source": [
        "<a href=\"https://colab.research.google.com/github/juliotorres82/edd_1310_2021/blob/master/19noviembre.ipynb\" target=\"_parent\"><img src=\"https://colab.research.google.com/assets/colab-badge.svg\" alt=\"Open In Colab\"/></a>"
      ]
    },
    {
      "cell_type": "code",
      "metadata": {
        "id": "ntLvziEw3f7P"
      },
      "source": [
        "class Nodo:\n",
        "    def __init__(self, value, siguiente= None):\n",
        "        self.data = value     #falta encapsulamiento\n",
        "        self.siguiente = siguiente\n",
        "\n",
        "class Linkedlist:\n",
        "    def __init__ (self):\n",
        "        self.__head = None\n",
        "\n",
        "    def is_empty(self):\n",
        "        return self.__head == None\n",
        "\n",
        "    def append (self, value):\n",
        "        nuevo = Nodo (value)\n",
        "        if self.__head == None: # self.is_empty()\n",
        "            self.__head = nuevo\n",
        "        else:\n",
        "            curr_node = self.__head\n",
        "            while curr_node.siguiente != None:\n",
        "                curr_node = curr_node.siguiente\n",
        "            curr_node.siguiente = nuevo\n",
        "    def transversal(self):\n",
        "        curr_node = self.__head\n",
        "        while curr_node != None:\n",
        "            print(f\"{curr_node.data} ->\")\n",
        "            curr_node = curr_node.siguiente\n",
        "        print(\"\")\n",
        "\n",
        "    def tail(self):\n",
        "        curr_node = self.__head\n",
        "        while curr_node != None:\n",
        "            curr_node = curr_node.siguiente\n",
        "        return curr_node\n",
        "    def remove(self, value):\n",
        "        curr_node = self.__head \n",
        "        if self.__head.data == value:\n",
        "          self.__head = self.__head.siguiente\n",
        "        else:\n",
        "          anterior = None\n",
        "          while curr_node.data != value and curr_node.siguiente != None: \n",
        "            anterior = curr_node\n",
        "            curr_node= curr_node.siguiente\n",
        "          if curr_node.data== value:\n",
        "            anterior.siguiente = curr_node.siguiente\n",
        "          else:\n",
        "            print(\"El dato no existe en la lista\")\n",
        "    def preppend(self, value):\n",
        "      nuevo = Nodo(value, self.__head)\n",
        "      self.__head = nuevo\n",
        "\n",
        "    def get(self, posicion=None): # por defecto regresa el ultimo\n",
        "      contador = 0 \n",
        "      dato = None\n",
        "      if posicion == None:\n",
        "        dato = self.tail().data\n",
        "\n",
        "      else:\n",
        "        pass\n",
        "      return dato\n",
        "\n",
        "l = Linkedlist()\n",
        "print(f\"L esta vacia ? {l.is_empty()}\")\n",
        "l.append(10)\n",
        "l.append(5)\n",
        "l.append(6)\n",
        "l.append(20)\n",
        "print(f\"L esta vacia ? {l.is_empty()}\")\n",
        "l.transversal()\n",
        "l.remove(10)\n",
        "l.transversal()\n",
        "l.preppend(3)\n",
        "x = l.tail()\n",
        "#print(x.data)\n",
        "print(l.get())"
      ],
      "execution_count": null,
      "outputs": []
    }
  ]
}