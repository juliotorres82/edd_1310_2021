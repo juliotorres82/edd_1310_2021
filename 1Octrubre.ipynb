{
  "nbformat": 4,
  "nbformat_minor": 0,
  "metadata": {
    "colab": {
      "name": "1Octrubre.ipynb",
      "provenance": [],
      "authorship_tag": "ABX9TyNAaJVR1qgdBC3PX8ngmXGN",
      "include_colab_link": true
    },
    "kernelspec": {
      "name": "python3",
      "display_name": "Python 3"
    }
  },
  "cells": [
    {
      "cell_type": "markdown",
      "metadata": {
        "id": "view-in-github",
        "colab_type": "text"
      },
      "source": [
        "<a href=\"https://colab.research.google.com/github/juliotorres82/edd_1310_2021/blob/master/1Octrubre.ipynb\" target=\"_parent\"><img src=\"https://colab.research.google.com/assets/colab-badge.svg\" alt=\"Open In Colab\"/></a>"
      ]
    },
    {
      "cell_type": "markdown",
      "metadata": {
        "id": "m2INhf4y7wuf"
      },
      "source": [
        "## Intro Python 3\n",
        "### Variables\n",
        "tipo dinámico\n",
        "\n",
        "escuela = \"FES Aragon\"\n"
      ]
    },
    {
      "cell_type": "code",
      "metadata": {
        "id": "Q1rzexvZ8HdL",
        "outputId": "b802a341-0b54-4240-db26-368fa8b9507d",
        "colab": {
          "base_uri": "https://localhost:8080/",
          "height": 187
        }
      },
      "source": [
        "escuela = \"FES Aragon\"\n",
        "print(escuela)\n",
        "print(\"-------\")\n",
        "edad = 13\n",
        "estatura = 1.67\n",
        "fumador = True\n",
        "frase = \"\"\"\n",
        "Esta es \n",
        "una \n",
        "frase\n",
        "de multiples líneas\n",
        "y también es\n",
        "un tipo de dato\n",
        "\"\"\"\n",
        "print(frase)\n",
        "nombre = \"Jose\"\n",
        "nombre_completo = \"Jose Sosa Cardenas\"\n",
        "\n",
        "print"
      ],
      "execution_count": 6,
      "outputs": [
        {
          "output_type": "stream",
          "text": [
            "FES Aragon\n",
            "-------\n",
            "\n",
            "Esta es \n",
            "una \n",
            "frase\n",
            "de multiples líneas\n",
            "y también es\n",
            "un tipo de dato\n",
            "\n"
          ],
          "name": "stdout"
        }
      ]
    },
    {
      "cell_type": "markdown",
      "metadata": {
        "id": "8xVooqC8926c"
      },
      "source": [
        "# Print\n",
        "con comas, \n",
        "con signo mas + \n",
        "con format() \n",
        "con el operador f\"\""
      ]
    },
    {
      "cell_type": "code",
      "metadata": {
        "id": "ispWbm6294sL",
        "outputId": "e4c2d003-5196-43bf-f5cb-e0b82c21d4b9",
        "colab": {
          "base_uri": "https://localhost:8080/",
          "height": 34
        }
      },
      "source": [
        "#, da un espacio\n",
        "print(nombre, edad)"
      ],
      "execution_count": 7,
      "outputs": [
        {
          "output_type": "stream",
          "text": [
            "Jose 13\n"
          ],
          "name": "stdout"
        }
      ]
    },
    {
      "cell_type": "code",
      "metadata": {
        "id": "VdRHAV5a_AEf",
        "outputId": "af1371a0-46ab-4c86-cb6b-3af3806662de",
        "colab": {
          "base_uri": "https://localhost:8080/",
          "height": 51
        }
      },
      "source": [
        "# + concatena\n",
        "print (nombre + str(edad))\n",
        "print (nombre+nombre_completo)"
      ],
      "execution_count": 10,
      "outputs": [
        {
          "output_type": "stream",
          "text": [
            "Jose13\n",
            "JoseJose Sosa Cardenas\n"
          ],
          "name": "stdout"
        }
      ]
    },
    {
      "cell_type": "code",
      "metadata": {
        "id": "8-yGxjBO_69q",
        "outputId": "aa7ce9a1-c02e-4607-f531-7744c67625c6",
        "colab": {
          "base_uri": "https://localhost:8080/",
          "height": 68
        }
      },
      "source": [
        "# con formato -> Nombre es Jose y su edad es de 13 años.\n",
        "print(\"Su nombre es\", nombre, \"y su edad es\", edad, \"años.\")\n",
        "print(\"Su nombre es {0} y su edad es de {1} años.\".format(nombre, edad) )\n",
        "print(\"Su nombre es {1} y su edad es de {0} años.\".format(nombre, edad) )"
      ],
      "execution_count": 13,
      "outputs": [
        {
          "output_type": "stream",
          "text": [
            "Su nombre es Jose y su edad es 13 años.\n",
            "Su nombre es Jose y su edad es de 13 años.\n",
            "Su nombre es 13 y su edad es de Jose años.\n"
          ],
          "name": "stdout"
        }
      ]
    },
    {
      "cell_type": "code",
      "metadata": {
        "id": "FYu_S3K3Bt-F",
        "outputId": "f7fb55eb-8f06-4839-98c6-c899c3b7ea44",
        "colab": {
          "base_uri": "https://localhost:8080/",
          "height": 34
        }
      },
      "source": [
        "# con el formato con el operador f\"\"\n",
        "print(f\"Su nombre es {nombre} y su edad es de {edad} años.\")"
      ],
      "execution_count": 15,
      "outputs": [
        {
          "output_type": "stream",
          "text": [
            "Su nombre es Jose y su edad es de 13 años.\n"
          ],
          "name": "stdout"
        }
      ]
    },
    {
      "cell_type": "markdown",
      "metadata": {
        "id": "S2kpWfU6Cp5Q"
      },
      "source": [
        "# Caracter de escape\n",
        "\\n salto de linea\n",
        "\n",
        "\\t tabulador\n",
        "\n",
        "\\a beep\n",
        "\n",
        "\\\\\"\n",
        "\n",
        "\\´"
      ]
    },
    {
      "cell_type": "code",
      "metadata": {
        "id": "40cdBwAqC778",
        "outputId": "4c61cd92-7445-45ff-e4f8-849edc9920bd",
        "colab": {
          "base_uri": "https://localhost:8080/",
          "height": 51
        }
      },
      "source": [
        "\"\"\"\n",
        "Esto es \n",
        "un comentario\n",
        "de multiple\n",
        "linea\n",
        "tan tan\n",
        "\"\"\"\n",
        "print (f\"\\tMi nombre es \\n\\t\\t {nombre}\")\n",
        "\n"
      ],
      "execution_count": 16,
      "outputs": [
        {
          "output_type": "stream",
          "text": [
            "\tMi nombre es \n",
            "\t\t Jose\n"
          ],
          "name": "stdout"
        }
      ]
    },
    {
      "cell_type": "markdown",
      "metadata": {
        "id": "GG1rhryHDw-y"
      },
      "source": [
        "# Ayuda de tipos de dato en python\n",
        "dir()\n",
        "\n",
        "help()\n",
        "\n"
      ]
    },
    {
      "cell_type": "code",
      "metadata": {
        "id": "K9yqIAffEK4S"
      },
      "source": [
        "# str, int, float, bool ... list, dict, set\n",
        "# help sirve para saber para que funciona cada tipo de dato\n",
        "help(str)"
      ],
      "execution_count": null,
      "outputs": []
    },
    {
      "cell_type": "code",
      "metadata": {
        "id": "WEsasMAZFLxM",
        "outputId": "df690e87-25b9-479a-d994-60d7be80bf57",
        "colab": {
          "base_uri": "https://localhost:8080/",
          "height": 51
        }
      },
      "source": [
        "print(nombre_completo.capitalize())\n",
        "print(nombre_completo.upper(), end=\"-----\")\n",
        "print(nombre_completo.title())"
      ],
      "execution_count": 22,
      "outputs": [
        {
          "output_type": "stream",
          "text": [
            "Jose sosa cardenas\n",
            "JOSE SOSA CARDENAS-----Jose Sosa Cardenas\n"
          ],
          "name": "stdout"
        }
      ]
    },
    {
      "cell_type": "code",
      "metadata": {
        "id": "WQ8f1_4VGD4o"
      },
      "source": [
        "help(print)"
      ],
      "execution_count": null,
      "outputs": []
    },
    {
      "cell_type": "markdown",
      "metadata": {
        "id": "HR6i3QAFGpIN"
      },
      "source": [
        "# clase String\n",
        "Es manejada como un arreglo (c o en Java) o lista (python)\n",
        "telefono = \"Huawei mate 30 pro\"\n",
        "\n",
        "print(telefono)"
      ]
    },
    {
      "cell_type": "code",
      "metadata": {
        "id": "EBYSHWoIHLVl",
        "outputId": "df02d047-48fd-40e7-d8dc-5f2bc08f83f9",
        "colab": {
          "base_uri": "https://localhost:8080/",
          "height": 34
        }
      },
      "source": [
        "telefono = \"Huawei mate 30 pro\"\n",
        "print(telefono[5])"
      ],
      "execution_count": 23,
      "outputs": [
        {
          "output_type": "stream",
          "text": [
            "i\n"
          ],
          "name": "stdout"
        }
      ]
    },
    {
      "cell_type": "markdown",
      "metadata": {
        "id": "GiQpO-aXIIif"
      },
      "source": [
        "#Slicing (rebanado)\n",
        "[ini:stop:incremento]\n",
        "#Selecciona una parte de la variable\n",
        "nota: el stop no se incluye, termina en el anterior al stop"
      ]
    },
    {
      "cell_type": "code",
      "metadata": {
        "id": "9kQSY_cNIcUi",
        "outputId": "24b00abe-12aa-43e8-a51f-21985980b2a2",
        "colab": {
          "base_uri": "https://localhost:8080/",
          "height": 102
        }
      },
      "source": [
        "print(telefono[7:11:1])\n",
        "#el inicio y el incremento son opcionales\n",
        "print (telefono[:11:])\n",
        "#el valor por defecto de stop es len(str)\n",
        "print(telefono[::])\n",
        "# incremento negativo\n",
        "print (telefono[::-1])\n",
        "# slacing negativo\n",
        "ini = -3\n",
        "inc = 1\n",
        "print (telefono[ini::inc])"
      ],
      "execution_count": 27,
      "outputs": [
        {
          "output_type": "stream",
          "text": [
            "mate\n",
            "Huawei mate\n",
            "Huawei mate 30 pro\n",
            "orp 03 etam iewauH\n",
            "pro\n"
          ],
          "name": "stdout"
        }
      ]
    },
    {
      "cell_type": "markdown",
      "metadata": {
        "id": "MPr-U_hDNMaW"
      },
      "source": [
        "# metodos de string (str)\n",
        "Existen metodos muy utiles en esta clase"
      ]
    },
    {
      "cell_type": "code",
      "metadata": {
        "id": "eX5wCyJrNc3c",
        "outputId": "1d937d7e-40b4-41fd-cdfb-83582d5a0e0f",
        "colab": {
          "base_uri": "https://localhost:8080/",
          "height": 374
        }
      },
      "source": [
        "facultad = \"    facultad de estudios superiores aragon      \\n\"\n",
        "print(facultad)\n",
        "print(facultad.count(\"u\")) \n",
        "#count cuenta numero de elementos de una cadena (espacios, numeros, letras)\n",
        "print(facultad.find(\"s\"))\n",
        "#find te dice en que numero esta la letra colocada\n",
        "print( facultad.index(\"s\") )\n",
        "#index indice de concidencia\n",
        "print( facultad.strip() )\n",
        "#strip quita espacios\n",
        "print(len(facultad))\n",
        "#len numero de caracteres en total\n",
        "tamaño = len(facultad)\n",
        "print(f\"tamaño de la cadena es {tamaño} caracteres \")\n",
        "print(facultad)\n",
        "print(facultad.strip().split(\" \"))\n",
        "\n",
        "print(\"-----------------------\")\n",
        "#copiar cadenas \n",
        "otra_cadena = facultad\n",
        "print(otra_cadena)\n",
        "facultad = \"FES Aragón\"\n",
        "print(facultad)\n",
        "print(otra_cadena)\n",
        "\n",
        "#copiar lista\n",
        "colores = [\"rojo\", \"verde\"]\n",
        "otra = colores\n",
        "print (colores)\n",
        "print (otra)\n",
        "otra.append(\"rosa\")\n",
        "print (colores)\n",
        "print (otra)"
      ],
      "execution_count": 42,
      "outputs": [
        {
          "output_type": "stream",
          "text": [
            "    facultad de estudios superiores aragon      \n",
            "\n",
            "3\n",
            "17\n",
            "17\n",
            "facultad de estudios superiores aragon\n",
            "49\n",
            "tamaño de la cadena es 49 caracteres \n",
            "    facultad de estudios superiores aragon      \n",
            "\n",
            "['facultad', 'de', 'estudios', 'superiores', 'aragon']\n",
            "-----------------------\n",
            "    facultad de estudios superiores aragon      \n",
            "\n",
            "FES Aragón\n",
            "    facultad de estudios superiores aragon      \n",
            "\n",
            "['rojo', 'verde']\n",
            "['rojo', 'verde']\n",
            "['rojo', 'verde', 'rosa']\n",
            "['rojo', 'verde', 'rosa']\n"
          ],
          "name": "stdout"
        }
      ]
    }
  ]
}