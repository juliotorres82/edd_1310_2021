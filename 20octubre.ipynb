{
  "nbformat": 4,
  "nbformat_minor": 0,
  "metadata": {
    "colab": {
      "name": "20octubre.ipynb",
      "provenance": [],
      "authorship_tag": "ABX9TyMGnBmutvE8UTJZzSavUXzC",
      "include_colab_link": true
    },
    "kernelspec": {
      "name": "python3",
      "display_name": "Python 3"
    }
  },
  "cells": [
    {
      "cell_type": "markdown",
      "metadata": {
        "id": "view-in-github",
        "colab_type": "text"
      },
      "source": [
        "<a href=\"https://colab.research.google.com/github/juliotorres82/edd_1310_2021/blob/master/20octubre.ipynb\" target=\"_parent\"><img src=\"https://colab.research.google.com/assets/colab-badge.svg\" alt=\"Open In Colab\"/></a>"
      ]
    },
    {
      "cell_type": "code",
      "metadata": {
        "id": "XpK9iAiAwQCU",
        "outputId": "7c93c8a0-4ce2-4d29-ed58-72538c7be9d6",
        "colab": {
          "base_uri": "https://localhost:8080/",
          "height": 34
        }
      },
      "source": [
        "23 , 23 , 44 , 55 , 5\n",
        "44, 4 , 5 , 7 , 7\n",
        "6 , 5, 4, 2, 1"
      ],
      "execution_count": 5,
      "outputs": [
        {
          "output_type": "execute_result",
          "data": {
            "text/plain": [
              "(6, 5, 4, 2, 1)"
            ]
          },
          "metadata": {
            "tags": []
          },
          "execution_count": 5
        }
      ]
    },
    {
      "cell_type": "code",
      "metadata": {
        "id": "Z3DGnV9AxuEi",
        "outputId": "5c3ffa95-0f2d-479d-8b3b-c0010bbdf041",
        "colab": {
          "base_uri": "https://localhost:8080/",
          "height": 102
        }
      },
      "source": [
        "archivo = open(\"numeros.txt\",\"rt\")\n",
        "#total\n",
        "for linea in archivo.readlines()[:1:]: #readlines le toda la linea\n",
        "  #total\n",
        "  for trunc in linea.split(\",\"):\n",
        "    print(int(trunc.strip()))\n",
        "    "
      ],
      "execution_count": 17,
      "outputs": [
        {
          "output_type": "stream",
          "text": [
            "23\n",
            "23\n",
            "44\n",
            "55\n",
            "5\n"
          ],
          "name": "stdout"
        }
      ]
    },
    {
      "cell_type": "markdown",
      "metadata": {
        "id": "vsIzAsJ72qPv"
      },
      "source": [
        "# sintaxis del for en Python\n",
        "dos versiones de for\n",
        "1. range\n",
        "2. in iterator"
      ]
    },
    {
      "cell_type": "code",
      "metadata": {
        "id": "xJhJOj4d235o",
        "outputId": "dd6c75b3-f2f3-4ff8-9a28-df6456454972",
        "colab": {
          "base_uri": "https://localhost:8080/",
          "height": 170
        }
      },
      "source": [
        "r = range (0 , 10, 2)\n",
        "for x in r:\n",
        "  print(x)\n",
        "\n",
        "colores = [\"rojo\", \"rosa\", \"azul\", \"fucsia\"]\n",
        "  \n",
        "for indice in range(0,len(colores),1):\n",
        "  #print(colores[indice])\n",
        "  colores[indice]=colores[indice].upper()\n",
        "for col in colores:\n",
        "  print(col)"
      ],
      "execution_count": 33,
      "outputs": [
        {
          "output_type": "stream",
          "text": [
            "0\n",
            "2\n",
            "4\n",
            "6\n",
            "8\n",
            "ROJO\n",
            "ROSA\n",
            "AZUL\n",
            "FUCSIA\n"
          ],
          "name": "stdout"
        }
      ]
    },
    {
      "cell_type": "markdown",
      "metadata": {
        "id": "Kai7rJvq7-zZ"
      },
      "source": [
        "# generadores\n",
        "[\"hola\" valor for x in range{10}]\n",
        "[\n",
        "[0,0,0],\n",
        "[0,0,0],\n",
        "[0,0,0]\n",
        "]\n",
        "\n",
        "3x3"
      ]
    },
    {
      "cell_type": "code",
      "metadata": {
        "id": "N04ajD6M8jiC",
        "outputId": "4166fdf8-c4fd-4f79-ce7d-16f0fdb73231",
        "colab": {
          "base_uri": "https://localhost:8080/",
          "height": 34
        }
      },
      "source": [
        "lista =[x for x in range(3)]\n",
        "print(lista)"
      ],
      "execution_count": 35,
      "outputs": [
        {
          "output_type": "stream",
          "text": [
            "[0, 1, 2]\n"
          ],
          "name": "stdout"
        }
      ]
    },
    {
      "cell_type": "code",
      "metadata": {
        "id": "iWRrsLzD92fv",
        "outputId": "41cfef16-1f95-4ef8-e458-25a9cec137a8",
        "colab": {
          "base_uri": "https://localhost:8080/",
          "height": 34
        }
      },
      "source": [
        "ren = 3\n",
        "col = 3\n",
        "\n",
        "lista = [[0 for x in range(3)] for x in range(3)]\n",
        "print(lista)"
      ],
      "execution_count": 36,
      "outputs": [
        {
          "output_type": "stream",
          "text": [
            "[[0, 0, 0], [0, 0, 0], [0, 0, 0]]\n"
          ],
          "name": "stdout"
        }
      ]
    },
    {
      "cell_type": "markdown",
      "metadata": {
        "id": "G2nb03Ml_Efh"
      },
      "source": [
        "# POO en Python\n",
        "-clase\n",
        "\n",
        "-creacion de objetos\n",
        "\n",
        "-cronstructor\n",
        "\n",
        "-encapsulamiento\n",
        "\n",
        "-metodos\n",
        "\n",
        "-atributos\n",
        "\n",
        "-herencia"
      ]
    },
    {
      "cell_type": "code",
      "metadata": {
        "id": "I21fcMl6_hbH",
        "outputId": "8d77bf19-e200-4a0c-ed08-48bb68fa58f5",
        "colab": {
          "base_uri": "https://localhost:8080/",
          "height": 51
        }
      },
      "source": [
        "class Computadora:\n",
        "  def __init__(self, m , p):\n",
        "    self.__marca= m\n",
        "    self.__procesador= p\n",
        "    print(\"creando el objeto\")\n",
        "\n",
        "  def to_string(self):\n",
        "    return \"Marca: \"+self.__marca+\" Procesador: \"+self.__procesador\n",
        "\n",
        "mi_pc = Computadora(\"Toshiba\", \"Intel i7\")\n",
        "mi_pc.__marca=\"HP\"\n",
        "print(mi_pc.to_string())"
      ],
      "execution_count": 47,
      "outputs": [
        {
          "output_type": "stream",
          "text": [
            "creando el objeto\n",
            "Marca: Toshiba Procesador: Intel i7\n"
          ],
          "name": "stdout"
        }
      ]
    }
  ]
}