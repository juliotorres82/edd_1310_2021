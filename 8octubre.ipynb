{
  "nbformat": 4,
  "nbformat_minor": 0,
  "metadata": {
    "colab": {
      "name": "8octubre.ipynb",
      "provenance": [],
      "authorship_tag": "ABX9TyMr9JFPYk6oMlMTybVK+JHE",
      "include_colab_link": true
    },
    "kernelspec": {
      "name": "python3",
      "display_name": "Python 3"
    }
  },
  "cells": [
    {
      "cell_type": "markdown",
      "metadata": {
        "id": "view-in-github",
        "colab_type": "text"
      },
      "source": [
        "<a href=\"https://colab.research.google.com/github/juliotorres82/edd_1310_2021/blob/master/8octubre.ipynb\" target=\"_parent\"><img src=\"https://colab.research.google.com/assets/colab-badge.svg\" alt=\"Open In Colab\"/></a>"
      ]
    },
    {
      "cell_type": "code",
      "metadata": {
        "id": "MszaFMAw8pKm",
        "outputId": "b49e7b30-08b8-484c-e847-deb6a720bc02",
        "colab": {
          "base_uri": "https://localhost:8080/",
          "height": 190
        }
      },
      "source": [
        "# listas multi dimensión\n",
        "monitores =[[\"Samsung\",\"17.3 \\\"\",1024],[\"BenQ\",\"40\\\"\",2048]]\n",
        "procesadores = [[\"Intel\",\"i7\",3.4],[\"AMD\",\"razzer\",3.3],[\"Intel\",\"i3\",3.1]]\n",
        "memorias = [[\"Kingston\", \"8GB\",\"DDR4\"],[\"Kingston\", \"16GB\",\"DDR3\"],[\"ADATA\", \"32GB\",\"DDR4\"]]\n",
        "\n",
        "componentes = [monitores,procesadores,memorias]\n",
        "print(componentes)\n",
        "print(componentes[1])\n",
        "print(componentes[2][2][1])\n",
        "print(\"32GB\" in componentes[2][2][1])\n",
        "\n",
        "\n",
        "print(int(componentes[0][1][2])*2)\n",
        "print(float(componentes[1][2][2])*2)\n",
        "print(componentes[1][1][1][1:4:1])\n",
        "print(str(componentes[2][2][0]).lower()) #lower() para poner en minusculas\n",
        "#capitalize() poner la primera es mayuscula\n",
        "\n",
        "componentes[2].append([\"Patito\", \"32GB\", \"DDR4\"])\n",
        "print(componentes[2])\n",
        "\n"
      ],
      "execution_count": 29,
      "outputs": [
        {
          "output_type": "stream",
          "text": [
            "[[['Samsung', '17.3 \"', 1024], ['BenQ', '40\"', 2048]], [['Intel', 'i7', 3.4], ['AMD', 'razzer', 3.3], ['Intel', 'i3', 3.1]], [['Kingston', '8GB', 'DDR4'], ['Kingston', '16GB', 'DDR3'], ['ADATA', '32GB', 'DDR4']]]\n",
            "[['Intel', 'i7', 3.4], ['AMD', 'razzer', 3.3], ['Intel', 'i3', 3.1]]\n",
            "32GB\n",
            "True\n",
            "4096\n",
            "6.2\n",
            "azz\n",
            "adata\n",
            "[['Kingston', '8GB', 'DDR4'], ['Kingston', '16GB', 'DDR3'], ['ADATA', '32GB', 'DDR4'], ['Patito', '32GB', 'DDR4']]\n"
          ],
          "name": "stdout"
        }
      ]
    },
    {
      "cell_type": "code",
      "metadata": {
        "id": "zdY15QJ0HzVK",
        "outputId": "e36d3593-61ae-4fb4-e22c-cd9054c9acaf",
        "colab": {
          "base_uri": "https://localhost:8080/",
          "height": 85
        }
      },
      "source": [
        "# copiar listas\n",
        "# extender listas\n",
        "\n",
        "frutas = [\"Manzana\", \"Pera\"]\n",
        "print (frutas)\n",
        "otras_frutas = [ \"aguacate\" , \"sandia\"]\n",
        "\n",
        "# + sobre listas\n",
        "\n",
        "frutas = frutas + otras_frutas\n",
        "print(frutas)\n",
        "\n",
        "# funcion extend()\n",
        "frutas.extend(otras_frutas)\n",
        "print(frutas)\n",
        "\n",
        "frutas.append(otras_frutas)\n",
        "print(frutas)"
      ],
      "execution_count": 34,
      "outputs": [
        {
          "output_type": "stream",
          "text": [
            "['Manzana', 'Pera']\n",
            "['Manzana', 'Pera', 'aguacate', 'sandia']\n",
            "['Manzana', 'Pera', 'aguacate', 'sandia', 'aguacate', 'sandia']\n",
            "['Manzana', 'Pera', 'aguacate', 'sandia', 'aguacate', 'sandia', ['aguacate', 'sandia']]\n"
          ],
          "name": "stdout"
        }
      ]
    },
    {
      "cell_type": "code",
      "metadata": {
        "id": "MX_uMa6yJ9bq",
        "outputId": "6227fca1-8b6b-4f38-abaa-32c097a667d6",
        "colab": {
          "base_uri": "https://localhost:8080/",
          "height": 136
        }
      },
      "source": [
        "# copiar\n",
        "colores = [\"azul\",\"rojo\", \"verde\",\"violeta\"]\n",
        "otos_colores = colores\n",
        "print(colores)\n",
        "\n",
        "otos_colores.append(\"Rosa\")\n",
        "print(colores)\n",
        "print(otos_colores)\n",
        "\n",
        "una_mas = colores.copy()\n",
        "print(una_mas)\n",
        "\n",
        "una_mas.append(\"Gris\")\n",
        "print(una_mas)\n",
        "print(colores)\n",
        "\n",
        "#unpaking de listas\n",
        "\n",
        "alumno = [\"Jesus\", \"Perez\", \"Herrera\", 22, \"ICO\", 10.0]\n",
        " \n",
        "nombre,paterno, materno, edad, carrera, promedio = alumno\n",
        "print(f\"Alumno: {nombre} carrera: {carrera} promedio:{promedio}\")"
      ],
      "execution_count": 46,
      "outputs": [
        {
          "output_type": "stream",
          "text": [
            "['azul', 'rojo', 'verde', 'violeta']\n",
            "['azul', 'rojo', 'verde', 'violeta', 'Rosa']\n",
            "['azul', 'rojo', 'verde', 'violeta', 'Rosa']\n",
            "['azul', 'rojo', 'verde', 'violeta', 'Rosa']\n",
            "['azul', 'rojo', 'verde', 'violeta', 'Rosa', 'Gris']\n",
            "['azul', 'rojo', 'verde', 'violeta', 'Rosa']\n",
            "Alumno: Jesus carrera: ICO promedio:10.0\n"
          ],
          "name": "stdout"
        }
      ]
    },
    {
      "cell_type": "markdown",
      "metadata": {
        "id": "7gPnGnAdR1jC"
      },
      "source": [
        "# tuplas\n",
        "- se declaran con ()\n",
        "- selector con []\n",
        "- NO son mutables"
      ]
    },
    {
      "cell_type": "code",
      "metadata": {
        "id": "X-K6X0nISO3T",
        "outputId": "35843b70-a137-4059-e168-5e9d4234d124",
        "colab": {
          "base_uri": "https://localhost:8080/",
          "height": 68
        }
      },
      "source": [
        "precios = ( 99.9 , 49.9 , 12.45 , 23.3 , 33.44 , 55.66)\n",
        "print(precios[1])\n",
        "# precios[1] = 50.0\n",
        "print(precios)\n",
        "print(precios[2:4])"
      ],
      "execution_count": 50,
      "outputs": [
        {
          "output_type": "stream",
          "text": [
            "49.9\n",
            "(99.9, 49.9, 12.45, 23.3, 33.44, 55.66)\n",
            "(12.45, 23.3)\n"
          ],
          "name": "stdout"
        }
      ]
    },
    {
      "cell_type": "markdown",
      "metadata": {
        "id": "PoNx2wT5Ti4E"
      },
      "source": [
        "# Diccionarios\n",
        "- Se declara con {}\n",
        "- si son mutables\n",
        "- conjunto de pares llave: valor\n",
        "- equivalente a los objetos JSON de JavaScript"
      ]
    },
    {
      "cell_type": "code",
      "metadata": {
        "id": "cSfwcqQBT4Vs",
        "outputId": "1621933b-cc5d-4ecb-9fbf-79a793fd7ed6",
        "colab": {
          "base_uri": "https://localhost:8080/",
          "height": 139
        }
      },
      "source": [
        "cliente = {     }\n",
        "print(cliente)\n",
        "alumno = {    \"num_cta\" :300000010 }\n",
        "print(alumno)\n",
        "\n",
        "\n",
        "alumno = {\"num_cta\" : 30303030303 , \n",
        "          \"carrera\" : \"ICO\",\n",
        "          \"promedio\": 8.92,\n",
        "          \"materias\": [\"EDD\",\"CyP\",\"Calidad\"],\n",
        "          \"direccion\" : {\n",
        "                                \"calle\" : \"rancho seco\",\n",
        "                                \"numero\" : 23,\n",
        "                                \"delegacion\": \"Neza\",\n",
        "                                \"estado\": {\n",
        "                                              \"id\" : 15,\n",
        "                                           \"nombre\" : \"Estado de Mexico\",\n",
        "                                 \"cp\": 57170          \n",
        "                                    \n",
        "\n",
        "\n",
        "                                }\n",
        "                         \n",
        "              \n",
        "\n",
        "\n",
        "          }\n",
        "          \n",
        "          }\n",
        "print(alumno)\n",
        "print(alumno[\"materias\"])\n",
        "print(alumno[\"promedio\"])\n",
        "print(alumno[\"direccion\"])\n"
      ],
      "execution_count": 61,
      "outputs": [
        {
          "output_type": "stream",
          "text": [
            "{}\n",
            "{'num_cta': 300000010}\n",
            "{'num_cta': 30303030303, 'carrera': 'ICO', 'promedio': 8.92, 'materias': ['EDD', 'CyP', 'Calidad'], 'direccion': {'calle': 'rancho seco', 'numero': 23, 'delegacion': 'Neza', 'estado': {'id': 15, 'nombre': 'Estado de Mexico', 'cp': 57170}}}\n",
            "['EDD', 'CyP', 'Calidad']\n",
            "8.92\n",
            "{'calle': 'rancho seco', 'numero': 23, 'delegacion': 'Neza', 'estado': {'id': 15, 'nombre': 'Estado de Mexico', 'cp': 57170}}\n"
          ],
          "name": "stdout"
        }
      ]
    }
  ]
}