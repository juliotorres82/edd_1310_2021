{
  "nbformat": 4,
  "nbformat_minor": 0,
  "metadata": {
    "colab": {
      "name": "13octubre.ipynb",
      "provenance": [],
      "authorship_tag": "ABX9TyOEBiwGdV8ASD+PI59enDSW",
      "include_colab_link": true
    },
    "kernelspec": {
      "name": "python3",
      "display_name": "Python 3"
    }
  },
  "cells": [
    {
      "cell_type": "markdown",
      "metadata": {
        "id": "view-in-github",
        "colab_type": "text"
      },
      "source": [
        "<a href=\"https://colab.research.google.com/github/juliotorres82/edd_1310_2021/blob/master/13octubre.ipynb\" target=\"_parent\"><img src=\"https://colab.research.google.com/assets/colab-badge.svg\" alt=\"Open In Colab\"/></a>"
      ]
    },
    {
      "cell_type": "code",
      "metadata": {
        "id": "A9ykqorksn3A",
        "outputId": "7d90ff7b-ed51-4323-b43f-2f9862fc2b65",
        "colab": {
          "base_uri": "https://localhost:8080/",
          "height": 129
        }
      },
      "source": [
        "alumno = { \n",
        "          \"num_cta\" : 303030303 ,\n",
        "          \"carrera\" : \"ICO\",\n",
        "          \"promedio\" : 9.8,\n",
        "          \"materias\" :[\"EDD\",\"CyP\",\"Calidad\",\"Emprendimiento\"],\n",
        "          \"direccion\" : { \n",
        "                            \"calle\":\"rancho seco\",\n",
        "                            \"numero\" : 23 ,\n",
        "                            \"delegacion\" : \"Neza\",\n",
        "                            \"estado\" : {\n",
        "                                        \"id\" : 15 ,\n",
        "                                        \"nombre\" : \"Estado de Máxico\" ,\n",
        "                                        \"nombre_corto\" : \"EdoMex\"\n",
        "                                        } ,\n",
        "                            \"CP\":57170\n",
        "\n",
        "                        } \n",
        "          }\n",
        "print(alumno)\n",
        "alumno[\"carrera\"] =\"ingenieria en computacion\"\n",
        "print(alumno)\n",
        "alumno [\"nombre_completo\"]={\"primer\": \"Juan\",\n",
        "                            \"segundo\": \"Pedro\",\n",
        "                            \"materno\": \"Perez\",\n",
        "                            \"paterno\": \"Gomez\"}\n",
        "alumno[\"semestre\"]=3    \n",
        "print(alumno)\n",
        "\n",
        "#print(f\"{alumno[\"nombre_completo\"][\"primer\"]} {alumno[\"nombre_completo\"][\"segundo\"]}\")"
      ],
      "execution_count": 5,
      "outputs": [
        {
          "output_type": "error",
          "ename": "SyntaxError",
          "evalue": "ignored",
          "traceback": [
            "\u001b[0;36m  File \u001b[0;32m\"<ipython-input-5-22d07ef49db5>\"\u001b[0;36m, line \u001b[0;32m29\u001b[0m\n\u001b[0;31m    print(f\"{alumno[\"nombre_completo\"][\"primer\"]}{alumno[\"nombre_completo\"][\"segundo\"]}\")\u001b[0m\n\u001b[0m                                   ^\u001b[0m\n\u001b[0;31mSyntaxError\u001b[0m\u001b[0;31m:\u001b[0m invalid syntax\n"
          ]
        }
      ]
    },
    {
      "cell_type": "code",
      "metadata": {
        "id": "nlxtPqXkx-CE",
        "outputId": "c367a348-07ad-4194-d035-2c10d4bcbfcd",
        "colab": {
          "base_uri": "https://localhost:8080/",
          "height": 666
        }
      },
      "source": [
        "# key(), values() y items()\n",
        "llaves = alumno.keys()\n",
        "print(llaves)\n",
        "for llave in llaves:\n",
        "  print(llave.upper())\n",
        "\n",
        "  valores = alumno.values()\n",
        "  for val in valores:\n",
        "    print(val)\n",
        "\n",
        "pares = alumno.items()\n",
        "print(pares)\n",
        "for elem in pares:\n",
        "  print(f\"el campo {elem[0]} tiene el valor {elem[1]}\")"
      ],
      "execution_count": 9,
      "outputs": [
        {
          "output_type": "stream",
          "text": [
            "dict_keys(['num_cta', 'carrera', 'promedio', 'materias', 'direccion'])\n",
            "NUM_CTA\n",
            "303030303\n",
            "ingenieria en computacion\n",
            "9.8\n",
            "['EDD', 'CyP', 'Calidad', 'Emprendimiento']\n",
            "{'calle': 'rancho seco', 'numero': 23, 'delegacion': 'Neza', 'estado': {'id': 15, 'nombre': 'Estado de Máxico', 'nombre_corto': 'EdoMex'}, 'CP': 57170}\n",
            "CARRERA\n",
            "303030303\n",
            "ingenieria en computacion\n",
            "9.8\n",
            "['EDD', 'CyP', 'Calidad', 'Emprendimiento']\n",
            "{'calle': 'rancho seco', 'numero': 23, 'delegacion': 'Neza', 'estado': {'id': 15, 'nombre': 'Estado de Máxico', 'nombre_corto': 'EdoMex'}, 'CP': 57170}\n",
            "PROMEDIO\n",
            "303030303\n",
            "ingenieria en computacion\n",
            "9.8\n",
            "['EDD', 'CyP', 'Calidad', 'Emprendimiento']\n",
            "{'calle': 'rancho seco', 'numero': 23, 'delegacion': 'Neza', 'estado': {'id': 15, 'nombre': 'Estado de Máxico', 'nombre_corto': 'EdoMex'}, 'CP': 57170}\n",
            "MATERIAS\n",
            "303030303\n",
            "ingenieria en computacion\n",
            "9.8\n",
            "['EDD', 'CyP', 'Calidad', 'Emprendimiento']\n",
            "{'calle': 'rancho seco', 'numero': 23, 'delegacion': 'Neza', 'estado': {'id': 15, 'nombre': 'Estado de Máxico', 'nombre_corto': 'EdoMex'}, 'CP': 57170}\n",
            "DIRECCION\n",
            "303030303\n",
            "ingenieria en computacion\n",
            "9.8\n",
            "['EDD', 'CyP', 'Calidad', 'Emprendimiento']\n",
            "{'calle': 'rancho seco', 'numero': 23, 'delegacion': 'Neza', 'estado': {'id': 15, 'nombre': 'Estado de Máxico', 'nombre_corto': 'EdoMex'}, 'CP': 57170}\n",
            "dict_items([('num_cta', 303030303), ('carrera', 'ingenieria en computacion'), ('promedio', 9.8), ('materias', ['EDD', 'CyP', 'Calidad', 'Emprendimiento']), ('direccion', {'calle': 'rancho seco', 'numero': 23, 'delegacion': 'Neza', 'estado': {'id': 15, 'nombre': 'Estado de Máxico', 'nombre_corto': 'EdoMex'}, 'CP': 57170})])\n",
            "el campo num_cta tiene el valor 303030303\n",
            "el campo carrera tiene el valor ingenieria en computacion\n",
            "el campo promedio tiene el valor 9.8\n",
            "el campo materias tiene el valor ['EDD', 'CyP', 'Calidad', 'Emprendimiento']\n",
            "el campo direccion tiene el valor {'calle': 'rancho seco', 'numero': 23, 'delegacion': 'Neza', 'estado': {'id': 15, 'nombre': 'Estado de Máxico', 'nombre_corto': 'EdoMex'}, 'CP': 57170}\n"
          ],
          "name": "stdout"
        }
      ]
    },
    {
      "cell_type": "code",
      "metadata": {
        "id": "4M7eO6pc1CBn",
        "outputId": "8b4325e7-fcd8-4f1e-b2c1-0896563f76ac",
        "colab": {
          "base_uri": "https://localhost:8080/",
          "height": 34
        }
      },
      "source": [
        "computadora = {\"procesador\": \"intel i7\", \"ram\": \"kingston 128GB\"}\n",
        "otros = {\"monitor\": \"LG 49\\\"\",\"hd\":\"Toshiba 1TB\"}\n",
        "computadora.update(otros)\n",
        "print(computadora)\n"
      ],
      "execution_count": 10,
      "outputs": [
        {
          "output_type": "stream",
          "text": [
            "{'procesador': 'intel i7', 'ram': 'kingston 128GB', 'monitor': 'LG 49\"', 'hd': 'Toshiba 1TB'}\n"
          ],
          "name": "stdout"
        }
      ]
    },
    {
      "cell_type": "markdown",
      "metadata": {
        "id": "LPhDYIjj2oYx"
      },
      "source": [
        "# funciones\n",
        "- unidades de codigo reutilizable\n",
        "- es un mecanismo de organizacion de codigo\n",
        "- una funcion toma de 0 a n parametros de entrada\n",
        "- tiene una sola salida (return) de cualquier tipo de dato\n",
        "- solo puedes hacer dos cosar:\n",
        "      definirla\n",
        "      llamarla\n",
        "- se definen con la palabra reservada \"def\""
      ]
    },
    {
      "cell_type": "code",
      "metadata": {
        "id": "qhSBvYSB39Ow",
        "outputId": "86124353-bd2e-4458-e1a9-77f347c870f9",
        "colab": {
          "base_uri": "https://localhost:8080/",
          "height": 136
        }
      },
      "source": [
        "def sumar(x , y):\n",
        "  resultado = x + y\n",
        "  return resultado\n",
        "\n",
        "def saludar( nombre ):\n",
        "  print(f\"Hola {nombre}, ¿como estas?\")\n",
        "saludar(\"Jesus\")\n",
        "print(sumar(10,5))\n",
        "print(sumar(2,6))\n",
        "c = sumar(3,7)\n",
        "print(c)\n",
        "def multiplicar(valor , veces):\n",
        "  if valor != None:\n",
        "    c = valor * veces\n",
        "  else:\n",
        "    c = \"operacion no valida\"\n",
        "  return c\n",
        "\n",
        "\n",
        "\n",
        "def operacion(a, b, c):\n",
        "  res = a + (b/c)\n",
        "  return res\n",
        "print(operacion(2,9,3))\n",
        "print(operacion(2,3,9))\n",
        "print(operacion(a=2,c=3,b=9))\n",
        "\n"
      ],
      "execution_count": 23,
      "outputs": [
        {
          "output_type": "stream",
          "text": [
            "Hola Jesus, ¿como estas?\n",
            "15\n",
            "8\n",
            "10\n",
            "5.0\n",
            "2.3333333333333335\n",
            "5.0\n"
          ],
          "name": "stdout"
        }
      ]
    },
    {
      "cell_type": "code",
      "metadata": {
        "id": "kTbFn_AL-hdb",
        "outputId": "a928bb47-3d96-46fb-d780-ed8a7b93dad9",
        "colab": {
          "base_uri": "https://localhost:8080/",
          "height": 272
        }
      },
      "source": [
        "def comanda(primer , fuerte , postre= \"Galleta de animalito\"):\n",
        "    print(f\"De entrada pidio:{primer}\")\n",
        "    print(f\"De plato fuerte: {fuerte}\")\n",
        "    print(f\"Postre: {postre}\")\n",
        "\n",
        "# argumentos posicionales con tuplas\n",
        "def comanda_2(*opciones):\n",
        "    print(opciones)\n",
        "    print(f\"De entrada pidio:{opciones[0]}\")\n",
        "    print(f\"De plato fuerte: {opciones[1]}\")\n",
        "    print(f\"Postre: {opciones[2]}\")\n",
        "    print(\"\\n indicaciones extras\")\n",
        "    for ind in opciones[3::]:\n",
        "      print(f\"\\t {ind}\")\n",
        "\n",
        "\n",
        "\n",
        "comanda(\"sopa aguada\", \"Tortas de papa\", \"Gelatina de limon\")\n",
        "comanda(\"sopa aguada\", \"Tortas de papa\")\n",
        "comanda_2(\"sopa aguada\", \"Tortas de papa\", \"Gelatina de limon\", \"las tortas bien doradas\", \"traer dos limones\", \"agua con hielo\")\n"
      ],
      "execution_count": 35,
      "outputs": [
        {
          "output_type": "stream",
          "text": [
            "De entrada pidio:sopa aguada\n",
            "De plato fuerte: Tortas de papa\n",
            "Postre: Gelatina de limon\n",
            "De entrada pidio:sopa aguada\n",
            "De plato fuerte: Tortas de papa\n",
            "Postre: Galleta de animalito\n",
            "('sopa aguada', 'Tortas de papa', 'Gelatina de limon', 'las tortas bien doradas', 'traer dos limones', 'agua con hielo')\n",
            "De entrada pidio:sopa aguada\n",
            "De plato fuerte: Tortas de papa\n",
            "Postre: Gelatina de limon\n",
            "\n",
            " indicaciones extras\n",
            "\t las tortas bien doradas\n",
            "\t traer dos limones\n",
            "\t agua con hielo\n"
          ],
          "name": "stdout"
        }
      ]
    },
    {
      "cell_type": "code",
      "metadata": {
        "id": "iCeg_szPCZoa",
        "outputId": "9af83570-e13a-4e75-8f0d-95028aab1696",
        "colab": {
          "base_uri": "https://localhost:8080/",
          "height": 156
        }
      },
      "source": [
        "# argumento posicionales con diccionarios\n",
        "def comanda_3(**opciones):\n",
        "  print(opciones)\n",
        "  for op in opciones.items():\n",
        "    print(f\"{op[0]} -> {op[1]}\")\n",
        "\n",
        "comanda_3(primer=\"sopa aguada\", fuerte=\"Tortas de papa\", postre=\"Gelatina de limon\", estra1=\"las tortas bien doradas\", extra2=\"traer dos limones\", extra3=\"agua con hielo\") \n"
      ],
      "execution_count": 37,
      "outputs": [
        {
          "output_type": "stream",
          "text": [
            "{'primer': 'sopa aguada', 'fuerte': 'Tortas de papa', 'postre': 'Gelatina de limon', 'estra1': 'las tortas bien doradas', 'extra2': 'traer dos limones', 'extra3': 'agua con hielo'}\n",
            "primer -> sopa aguada\n",
            "fuerte -> Tortas de papa\n",
            "postre -> Gelatina de limon\n",
            "estra1 -> las tortas bien doradas\n",
            "extra2 -> traer dos limones\n",
            "extra3 -> agua con hielo\n"
          ],
          "name": "stdout"
        }
      ]
    }
  ]
}