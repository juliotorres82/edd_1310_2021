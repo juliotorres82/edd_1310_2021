{
  "nbformat": 4,
  "nbformat_minor": 0,
  "metadata": {
    "colab": {
      "name": "24noviembre.ipynb",
      "provenance": [],
      "authorship_tag": "ABX9TyN46i7rPBdWmtRfBqICEkL3",
      "include_colab_link": true
    },
    "kernelspec": {
      "name": "python3",
      "display_name": "Python 3"
    }
  },
  "cells": [
    {
      "cell_type": "markdown",
      "metadata": {
        "id": "view-in-github",
        "colab_type": "text"
      },
      "source": [
        "<a href=\"https://colab.research.google.com/github/juliotorres82/edd_1310_2021/blob/master/24noviembre.ipynb\" target=\"_parent\"><img src=\"https://colab.research.google.com/assets/colab-badge.svg\" alt=\"Open In Colab\"/></a>"
      ]
    },
    {
      "cell_type": "code",
      "metadata": {
        "colab": {
          "base_uri": "https://localhost:8080/"
        },
        "id": "1ouYtbXpO7ec",
        "outputId": "1f499366-548c-49f6-aa5e-1153f36f22f4"
      },
      "source": [
        "class NodoDoble:\n",
        "  def __init__(self, value, anterior = None, siguiente= None):\n",
        "    self.data = value\n",
        "    self.next = siguiente\n",
        "    self.prev = anterior\n",
        "\n",
        "class DoubleLinkedList:\n",
        "  def __init__(self):\n",
        "    self.__head = NodoDoble(None)\n",
        "    self.__tail = NodoDoble(None)\n",
        "\n",
        "class DoubleLinkedList:\n",
        "  def __init__(self):\n",
        "    self.__head = NodoDoble(None)\n",
        "    self.__tail = NodoDoble(None)\n",
        "    self.__size = 0\n",
        "  \n",
        "  def get_size(self):\n",
        "    return self.__size\n",
        "  \n",
        "  def is_empty(self):\n",
        "    return self.__size == 0\n",
        "  \n",
        "  def append (self, value):\n",
        "    if self.is_empty():\n",
        "      nuevo = NodoDoble(value)\n",
        "      self.__head = nuevo\n",
        "      self.__tail = nuevo\n",
        "    else:\n",
        "      nuevo = NodoDoble (value, self.__tail, None)\n",
        "      self.__tail.next = nuevo\n",
        "      self.__tail = nuevo\n",
        "    self.__size +=1\n",
        "  \n",
        "  def transversal(self):\n",
        "    curr_node = self.__head\n",
        "    while curr_node != None:\n",
        "      print(f\"<--{curr_node.data} -->\", end=\"\")\n",
        "      curr_node = curr_node.next\n",
        "    print(\"\")\n",
        "  def reverse_transversal(self):\n",
        "    curr_node = self.__tail\n",
        "    while curr_node != None:\n",
        "      print(f\"<--{curr_node.data} -->\", end=\"\")\n",
        "      curr_node = curr_node.prev\n",
        "    print(\"\")\n",
        "  def remove_from_head(self, value):\n",
        "    curr_node = self.__head\n",
        "    if self.__head.data == value:\n",
        "    while curr_node.data != vlue and curr_node != None:\n",
        "      curr_node =curr_node.next\n",
        "    if curr_node-data ==value:\n",
        "      curr_node.prev.next = curr_node.next\n",
        "      curr_node.next.prev = curr_node.prev\n",
        "    curr_node.next= None\n",
        "    curr_node.prev= None\n",
        "    self.__size-=1\n",
        "      \n",
        "\n",
        "\n",
        "#pruebas_listas_dobles.py\n",
        "#from listas import DoubleLinkedList\n",
        "\n",
        "ld = DoubleLinkedList()\n",
        "print(\"Esta vacia?:\", ld.is_empty())\n",
        "ld.append(10)\n",
        "ld.append(20)\n",
        "ld.append(30)\n",
        "print(f\"La lista tiene{ld.get_size} elementos\")\n",
        "ld.transversal()\n",
        "ld.reverse_transversal\n",
        "\n",
        "\n",
        "\n",
        "\n",
        "\n"
      ],
      "execution_count": 6,
      "outputs": [
        {
          "output_type": "stream",
          "text": [
            "Esta vacia?: True\n",
            "La lista tiene<bound method DoubleLinkedList.get_size of <__main__.DoubleLinkedList object at 0x7f36344c0e80>> elementos\n",
            "<--10 --><--20 --><--30 -->\n"
          ],
          "name": "stdout"
        },
        {
          "output_type": "execute_result",
          "data": {
            "text/plain": [
              "<bound method DoubleLinkedList.reverse_transversal of <__main__.DoubleLinkedList object at 0x7f36344c0e80>>"
            ]
          },
          "metadata": {
            "tags": []
          },
          "execution_count": 6
        }
      ]
    }
  ]
}